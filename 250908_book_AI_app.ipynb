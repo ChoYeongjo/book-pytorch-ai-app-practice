{
  "nbformat": 4,
  "nbformat_minor": 0,
  "metadata": {
    "colab": {
      "provenance": [],
      "gpuType": "T4",
      "mount_file_id": "1TPQkddTo2enILESYxmC2jPlQgG_WRkS4",
      "authorship_tag": "ABX9TyOVJJbsdfrhZ7H3qCpEzRII",
      "include_colab_link": true
    },
    "kernelspec": {
      "name": "python3",
      "display_name": "Python 3"
    },
    "language_info": {
      "name": "python"
    },
    "accelerator": "GPU"
  },
  "cells": [
    {
      "cell_type": "markdown",
      "metadata": {
        "id": "view-in-github",
        "colab_type": "text"
      },
      "source": [
        "<a href=\"https://colab.research.google.com/github/ChoYeongjo/book-pytorch-ai-app-practice/blob/main/250908_book_AI_app.ipynb\" target=\"_parent\"><img src=\"https://colab.research.google.com/assets/colab-badge.svg\" alt=\"Open In Colab\"/></a>"
      ]
    },
    {
      "cell_type": "code",
      "source": [
        "import torch"
      ],
      "metadata": {
        "id": "PgBlN1ew3zQW"
      },
      "execution_count": 2,
      "outputs": []
    },
    {
      "cell_type": "code",
      "source": [
        "import matplotlib.pyplot as plt\n",
        "from sklearn import datasets\n",
        "\n",
        "digits_data=datasets.load_digits()\n",
        "\n",
        "n_img=10\n",
        "plt.figure(figsize=(10,4))\n",
        "for i in range(n_img):\n",
        "  ax=plt.subplot(2,5,i+1)\n",
        "  ax.imshow(digits_data.data[i].reshape(8,8), cmap='gray_r')\n",
        "  ax.get_xaxis().set_visible(False)\n",
        "  ax.get_yaxis().set_visible(False)\n",
        "plt.show()\n",
        "\n",
        "print(\"데이터의 형태: \",digits_data.data.shape)\n",
        "print(\"레이블의 형태: \",digits_data.target[:n_img])"
      ],
      "metadata": {
        "colab": {
          "base_uri": "https://localhost:8080/",
          "height": 317
        },
        "id": "SrRHim2K34Xz",
        "outputId": "4b5ee4de-7ac0-4530-dc2f-8e5f00d3d58a"
      },
      "execution_count": 9,
      "outputs": [
        {
          "output_type": "display_data",
          "data": {
            "text/plain": [
              "<Figure size 1000x400 with 10 Axes>"
            ],
            "image/png": "[encoded data removed]"
          },
          "metadata": {}
        },
        {
          "output_type": "stream",
          "name": "stdout",
          "text": [
            "데이터의 형태:  (1797, 64)\n",
            "레이블의 형태:  [0 1 2 3 4 5 6 7 8 9]\n"
          ]
        }
      ]
    },
    {
      "cell_type": "code",
      "source": [
        "import torch\n",
        "from sklearn.model_selection import train_test_split\n",
        "\n",
        "digit_images=digits_data.data\n",
        "lables=digits_data.target\n",
        "\n",
        "# X_train, X_test, y_train, y_test=train_test_split(digit_images, lables)\n",
        "x_train, x_test, t_train, t_test=train_test_split(digit_images, lables)"
      ],
      "metadata": {
        "id": "CnrEMoqYH1PL"
      },
      "execution_count": 10,
      "outputs": []
    },
    {
      "cell_type": "code",
      "source": [
        "# X_train.shape, X_train.dtype, type(X_train)"
      ],
      "metadata": {
        "colab": {
          "base_uri": "https://localhost:8080/"
        },
        "id": "5EvbkJJ2TY_j",
        "outputId": "939fde16-9b88-47e0-ce9f-e1fa21c978c1"
      },
      "execution_count": null,
      "outputs": [
        {
          "output_type": "execute_result",
          "data": {
            "text/plain": [
              "((1347, 64), dtype('float64'), numpy.ndarray)"
            ]
          },
          "metadata": {},
          "execution_count": 30
        }
      ]
    },
    {
      "cell_type": "code",
      "source": [
        "x_train=torch.tensor(x_train, dtype=torch.float32)\n",
        "x_test=torch.tensor(x_test, dtype=torch.float32)\n",
        "t_train=torch.tensor(t_train, dtype=torch.int64)\n",
        "t_test=torch.tensor(t_test, dtype=torch.int64)"
      ],
      "metadata": {
        "id": "si5xappfTc8z"
      },
      "execution_count": 11,
      "outputs": []
    },
    {
      "cell_type": "code",
      "source": [
        "from torch import nn\n",
        "net=nn.Sequential(\n",
        "    nn.Linear(64,32),\n",
        "    nn.ReLU(),\n",
        "    nn.Linear(32,16),\n",
        "    nn.ReLU(),\n",
        "    nn.Linear(16,10)\n",
        ")\n",
        "print(net)"
      ],
      "metadata": {
        "colab": {
          "base_uri": "https://localhost:8080/"
        },
        "id": "LnxXOQWjU5iT",
        "outputId": "ea58f007-0db6-4b67-badf-3f6395b67d49"
      },
      "execution_count": 12,
      "outputs": [
        {
          "output_type": "stream",
          "name": "stdout",
          "text": [
            "Sequential(\n",
            "  (0): Linear(in_features=64, out_features=32, bias=True)\n",
            "  (1): ReLU()\n",
            "  (2): Linear(in_features=32, out_features=16, bias=True)\n",
            "  (3): ReLU()\n",
            "  (4): Linear(in_features=16, out_features=10, bias=True)\n",
            ")\n"
          ]
        }
      ]
    },
    {
      "cell_type": "code",
      "source": [
        "from torch import optim\n",
        "loss=nn.CrossEntropyLoss()\n",
        "optimizer=optim.SGD(net.parameters(), lr=0.01)\n",
        "\n",
        "record_loss_train=[]\n",
        "record_loss_test=[]\n",
        "\n",
        "for i in range(1000):\n",
        "  optimizer.zero_grad()\n",
        "\n",
        "  #순전파\n",
        "  y_pred_train=net(x_train)\n",
        "  y_pred_test=net(x_test)\n",
        "\n",
        "  # 오차 기록 및 계산\n",
        "  loss_train=loss(y_pred_train, t_train)\n",
        "  loss_test=loss(y_pred_test, t_test)\n",
        "  record_loss_train.append(loss_train.item())\n",
        "  record_loss_test.append(loss_test.item())\n",
        "\n",
        "  #역전파\n",
        "  loss_train.backward()\n",
        "  #파라미터 갱신\n",
        "  optimizer.step()\n",
        "\n",
        "  if i%200==0:\n",
        "    print(f\"Epoch: {i}, Loss_Train: {loss_train.item():.3f}, Loss_Test:{loss_test.item():.3f}\")"
      ],
      "metadata": {
        "colab": {
          "base_uri": "https://localhost:8080/"
        },
        "id": "ONxjOEpIVJDj",
        "outputId": "6adeee6d-1869-4093-ccf5-77815a6f08fb"
      },
      "execution_count": 13,
      "outputs": [
        {
          "output_type": "stream",
          "name": "stdout",
          "text": [
            "Epoch: 0, Loss_Train: 2.778, Loss_Test:2.826\n",
            "Epoch: 200, Loss_Train: 0.306, Loss_Test:0.338\n",
            "Epoch: 400, Loss_Train: 0.152, Loss_Test:0.191\n",
            "Epoch: 600, Loss_Train: 0.105, Loss_Test:0.147\n",
            "Epoch: 800, Loss_Train: 0.081, Loss_Test:0.127\n"
          ]
        }
      ]
    },
    {
      "cell_type": "code",
      "source": [
        "plt.plot(range(len(record_loss_train)), record_loss_train, label='Train')\n",
        "plt.plot(range(len(record_loss_test)), record_loss_test, label='Test')\n",
        "plt.legend()\n",
        "\n",
        "plt.xlabel('Epochs')\n",
        "plt.ylabel('Loss')\n",
        "plt.show()"
      ],
      "metadata": {
        "colab": {
          "base_uri": "https://localhost:8080/",
          "height": 449
        },
        "id": "-PcXw3CUZQ-A",
        "outputId": "971fd92f-e398-4616-ebff-594a21f9f0b3"
      },
      "execution_count": 14,
      "outputs": [
        {
          "output_type": "display_data",
          "data": {
            "text/plain": [
              "<Figure size 640x480 with 1 Axes>"
            ],
            "image/png": "[encoded data removed]"
          },
          "metadata": {}
        }
      ]
    },
    {
      "cell_type": "code",
      "source": [
        "y_pred_test=net(x_test)\n",
        "count=(y_pred_test.argmax(1)==t_test).sum().item()\n",
        "print(f\"Accuracy: {count/len(t_test):.5f}\")"
      ],
      "metadata": {
        "colab": {
          "base_uri": "https://localhost:8080/"
        },
        "id": "vl65hdIyaMtv",
        "outputId": "92f633ce-4c55-44fa-a1d7-95fa9c9ecc91"
      },
      "execution_count": 16,
      "outputs": [
        {
          "output_type": "stream",
          "name": "stdout",
          "text": [
            "Accuracy: 0.96222\n"
          ]
        }
      ]
    },
    {
      "cell_type": "code",
      "source": [
        "#p.108\n",
        "img_id=0\n",
        "x_pred=digit_images[img_id]\n",
        "image=x_pred.reshape(8,8)\n",
        "plt.imshow(image, cmap='gray_r')\n",
        "plt.show()\n",
        "\n",
        "x_pred=torch.tensor(x_pred, dtype=torch.float32)\n",
        "y_pred=net(x_pred)\n",
        "print(\"정답:\", lables[img_id],\" 예측결과: \", y_pred.argmax().item())"
      ],
      "metadata": {
        "id": "aDADHrhmauGu",
        "colab": {
          "base_uri": "https://localhost:8080/",
          "height": 449
        },
        "outputId": "4ad8e2b2-c59c-4276-a2ba-518c7c4c3f99"
      },
      "execution_count": 17,
      "outputs": [
        {
          "output_type": "display_data",
          "data": {
            "text/plain": [
              "<Figure size 640x480 with 1 Axes>"
            ],
            "image/png": "[encoded data removed]"
          },
          "metadata": {}
        },
        {
          "output_type": "stream",
          "name": "stdout",
          "text": [
            "정답: 0  예측결과:  0\n"
          ]
        }
      ]
    },
    {
      "cell_type": "code",
      "source": [
        "#4.1 자동미분 p.120\n",
        "import torch\n",
        "x=torch.ones(2,3,requires_grad=True)\n",
        "print(x)"
      ],
      "metadata": {
        "colab": {
          "base_uri": "https://localhost:8080/"
        },
        "id": "jGsbzn4je9ih",
        "outputId": "7669d284-ce43-4f94-d6dd-ee9dfc85ca5e"
      },
      "execution_count": 18,
      "outputs": [
        {
          "output_type": "stream",
          "name": "stdout",
          "text": [
            "tensor([[1., 1., 1.],\n",
            "        [1., 1., 1.]], requires_grad=True)\n"
          ]
        }
      ]
    },
    {
      "cell_type": "code",
      "source": [
        "y=x+2\n",
        "print(y)\n",
        "print(y.grad_fn)"
      ],
      "metadata": {
        "colab": {
          "base_uri": "https://localhost:8080/"
        },
        "id": "z7a2Ak9SfaM8",
        "outputId": "0bce38fb-5203-4385-bd96-660a6d5c1df2"
      },
      "execution_count": 19,
      "outputs": [
        {
          "output_type": "stream",
          "name": "stdout",
          "text": [
            "tensor([[3., 3., 3.],\n",
            "        [3., 3., 3.]], grad_fn=<AddBackward0>)\n",
            "<AddBackward0 object at 0x7872936df730>\n"
          ]
        }
      ]
    },
    {
      "cell_type": "code",
      "source": [
        "z=y*3\n",
        "print(z)\n",
        "out=z.mean()\n",
        "print(out)"
      ],
      "metadata": {
        "colab": {
          "base_uri": "https://localhost:8080/"
        },
        "id": "CcdBf5oUf8gJ",
        "outputId": "1f153deb-c2f7-4c25-8c5a-635d8d06be95"
      },
      "execution_count": 22,
      "outputs": [
        {
          "output_type": "stream",
          "name": "stdout",
          "text": [
            "tensor([[9., 9., 9.],\n",
            "        [9., 9., 9.]], grad_fn=<MulBackward0>)\n",
            "tensor(9., grad_fn=<MeanBackward0>)\n"
          ]
        }
      ]
    },
    {
      "cell_type": "code",
      "source": [
        "#4.1.3 경사계산\n",
        "a=torch.tensor([1.0], requires_grad=True)\n",
        "b=a*2\n",
        "b.backward()\n",
        "print(a.grad)"
      ],
      "metadata": {
        "colab": {
          "base_uri": "https://localhost:8080/"
        },
        "id": "XrCx5ckQgA5i",
        "outputId": "f22ed558-d762-44ea-b9ab-4f8a43c33432"
      },
      "execution_count": 23,
      "outputs": [
        {
          "output_type": "stream",
          "name": "stdout",
          "text": [
            "tensor([2.])\n"
          ]
        }
      ]
    },
    {
      "cell_type": "code",
      "source": [
        "def calc(a):\n",
        "  b=a*2+1\n",
        "  c=b*b\n",
        "  d=c/(c+2)\n",
        "  e=d.mean()\n",
        "  return e\n",
        "\n",
        "x=[1.0,2.0,3.0]\n",
        "x=torch.tensor(x,requires_grad=True)\n",
        "y=calc(x)\n",
        "y.backward()\n",
        "print(x.grad)"
      ],
      "metadata": {
        "colab": {
          "base_uri": "https://localhost:8080/"
        },
        "id": "stOoJHkdgcqs",
        "outputId": "4755c389-8ebf-403b-c5b2-5d12c11ce494"
      },
      "execution_count": 24,
      "outputs": [
        {
          "output_type": "stream",
          "name": "stdout",
          "text": [
            "tensor([0.0661, 0.0183, 0.0072])\n"
          ]
        }
      ]
    },
    {
      "cell_type": "code",
      "source": [
        "#p.127 미세한 변화로 backward()로 나온값 검증\n",
        "delta=0.001\n",
        "x=[1.0, 2.0, 3.0]\n",
        "x=torch.tensor(x)\n",
        "y=calc(x)\n",
        "\n",
        "x_1=[1.0+delta, 2.0, 3.0]\n",
        "x_1=torch.tensor(x_1)\n",
        "y_1=calc(x_1)\n",
        "\n",
        "x_2=[1.0, 2.0+delta, 3.0]\n",
        "x_2=torch.tensor(x_2)\n",
        "y_2=calc(x_2)\n",
        "\n",
        "x_3=[1.0, 2.0, 3.0+delta]\n",
        "x_3=torch.tensor(x_3)\n",
        "y_3=calc(x_3)\n",
        "\n",
        "grad_1=(y_1-y)/delta\n",
        "grad_2=(y_2-y)/delta\n",
        "grad_3=(y_3-y)/delta\n",
        "\n",
        "print(grad_1, grad_2, grad_3)\n",
        "grads=torch.stack([grad_1, grad_2, grad_3])\n",
        "print(grads)"
      ],
      "metadata": {
        "colab": {
          "base_uri": "https://localhost:8080/"
        },
        "id": "QamZzWkIhGJk",
        "outputId": "8e591263-ebbe-4776-9641-503b528af349"
      },
      "execution_count": 26,
      "outputs": [
        {
          "output_type": "stream",
          "name": "stdout",
          "text": [
            "tensor(0.0660) tensor(0.0183) tensor(0.0072)\n",
            "tensor([0.0660, 0.0183, 0.0072])\n"
          ]
        }
      ]
    },
    {
      "cell_type": "code",
      "source": [
        "#p.129 4.2 에포크와 배치"
      ],
      "metadata": {
        "id": "ZAmCxGDrj1sW"
      },
      "execution_count": null,
      "outputs": []
    }
  ]
}