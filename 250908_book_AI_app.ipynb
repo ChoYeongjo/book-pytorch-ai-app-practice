{
  "nbformat": 4,
  "nbformat_minor": 0,
  "metadata": {
    "colab": {
      "provenance": [],
      "gpuType": "T4",
      "mount_file_id": "1TPQkddTo2enILESYxmC2jPlQgG_WRkS4",
      "authorship_tag": "ABX9TyMSMgD4fr5Iga4iXfDTOnqa",
      "include_colab_link": true
    },
    "kernelspec": {
      "name": "python3",
      "display_name": "Python 3"
    },
    "language_info": {
      "name": "python"
    },
    "accelerator": "GPU"
  },
  "cells": [
    {
      "cell_type": "markdown",
      "metadata": {
        "id": "view-in-github",
        "colab_type": "text"
      },
      "source": [
        "<a href=\"https://colab.research.google.com/github/ChoYeongjo/book-pytorch-ai-app-practice/blob/main/250908_book_AI_app.ipynb\" target=\"_parent\"><img src=\"https://colab.research.google.com/assets/colab-badge.svg\" alt=\"Open In Colab\"/></a>"
      ]
    },
    {
      "cell_type": "code",
      "source": [
        "import torch"
      ],
      "metadata": {
        "id": "PgBlN1ew3zQW"
      },
      "execution_count": null,
      "outputs": []
    },
    {
      "cell_type": "code",
      "source": [
        "import matplotlib.pyplot as plt\n",
        "from sklearn import datasets\n",
        "\n",
        "digits_data=datasets.load_digits()\n",
        "\n",
        "n_img=10\n",
        "plt.figure(figsize=(10,4))\n",
        "for i in range(n_img):\n",
        "  ax=plt.subplot(2,5,i+1)\n",
        "  ax.imshow(digits_data.data[i].reshape(8,8), cmap='gray_r')\n",
        "  ax.get_xaxis().set_visible(False)\n",
        "  ax.get_yaxis().set_visible(False)\n",
        "plt.show()\n",
        "\n",
        "print(\"데이터의 형태: \",digits_data.data.shape)\n",
        "print(\"레이블의 형태: \",digits_data.target[:n_img])"
      ],
      "metadata": {
        "colab": {
          "base_uri": "https://localhost:8080/",
          "height": 317
        },
        "id": "SrRHim2K34Xz",
        "outputId": "4b5ee4de-7ac0-4530-dc2f-8e5f00d3d58a"
      },
      "execution_count": null,
      "outputs": [
        {
          "output_type": "display_data",
          "data": {
            "text/plain": [
              "<Figure size 1000x400 with 10 Axes>"
            ],
            "image/png": "[encoded data removed]"
          },
          "metadata": {}
        },
        {
          "output_type": "stream",
          "name": "stdout",
          "text": [
            "데이터의 형태:  (1797, 64)\n",
            "레이블의 형태:  [0 1 2 3 4 5 6 7 8 9]\n"
          ]
        }
      ]
    },
    {
      "cell_type": "code",
      "source": [
        "import torch\n",
        "from sklearn.model_selection import train_test_split\n",
        "\n",
        "digit_images=digits_data.data\n",
        "lables=digits_data.target\n",
        "\n",
        "# X_train, X_test, y_train, y_test=train_test_split(digit_images, lables)\n",
        "x_train, x_test, t_train, t_test=train_test_split(digit_images, lables)"
      ],
      "metadata": {
        "id": "CnrEMoqYH1PL"
      },
      "execution_count": null,
      "outputs": []
    },
    {
      "cell_type": "code",
      "source": [
        "# X_train.shape, X_train.dtype, type(X_train)"
      ],
      "metadata": {
        "colab": {
          "base_uri": "https://localhost:8080/"
        },
        "id": "5EvbkJJ2TY_j",
        "outputId": "939fde16-9b88-47e0-ce9f-e1fa21c978c1"
      },
      "execution_count": null,
      "outputs": [
        {
          "output_type": "execute_result",
          "data": {
            "text/plain": [
              "((1347, 64), dtype('float64'), numpy.ndarray)"
            ]
          },
          "metadata": {},
          "execution_count": 30
        }
      ]
    },
    {
      "cell_type": "code",
      "source": [
        "x_train=torch.tensor(x_train, dtype=torch.float32)\n",
        "x_test=torch.tensor(x_test, dtype=torch.float32)\n",
        "t_train=torch.tensor(t_train, dtype=torch.int64)\n",
        "t_test=torch.tensor(t_test, dtype=torch.int64)"
      ],
      "metadata": {
        "id": "si5xappfTc8z"
      },
      "execution_count": null,
      "outputs": []
    },
    {
      "cell_type": "code",
      "source": [
        "from torch import nn\n",
        "net=nn.Sequential(\n",
        "    nn.Linear(64,32),\n",
        "    nn.ReLU(),\n",
        "    nn.Linear(32,16),\n",
        "    nn.ReLU(),\n",
        "    nn.Linear(16,10)\n",
        ")\n",
        "print(net)"
      ],
      "metadata": {
        "colab": {
          "base_uri": "https://localhost:8080/"
        },
        "id": "LnxXOQWjU5iT",
        "outputId": "ea58f007-0db6-4b67-badf-3f6395b67d49"
      },
      "execution_count": null,
      "outputs": [
        {
          "output_type": "stream",
          "name": "stdout",
          "text": [
            "Sequential(\n",
            "  (0): Linear(in_features=64, out_features=32, bias=True)\n",
            "  (1): ReLU()\n",
            "  (2): Linear(in_features=32, out_features=16, bias=True)\n",
            "  (3): ReLU()\n",
            "  (4): Linear(in_features=16, out_features=10, bias=True)\n",
            ")\n"
          ]
        }
      ]
    },
    {
      "cell_type": "code",
      "source": [
        "from torch import optim\n",
        "loss=nn.CrossEntropyLoss()\n",
        "optimizer=optim.SGD(net.parameters(), lr=0.01)\n",
        "\n",
        "record_loss_train=[]\n",
        "record_loss_test=[]\n",
        "\n",
        "for i in range(1000):\n",
        "  optimizer.zero_grad()\n",
        "\n",
        "  #순전파\n",
        "  y_pred_train=net(x_train)\n",
        "  y_pred_test=net(x_test)\n",
        "\n",
        "  # 오차 기록 및 계산\n",
        "  loss_train=loss(y_pred_train, t_train)\n",
        "  loss_test=loss(y_pred_test, t_test)\n",
        "  record_loss_train.append(loss_train.item())\n",
        "  record_loss_test.append(loss_test.item())\n",
        "\n",
        "  #역전파\n",
        "  loss_train.backward()\n",
        "  #파라미터 갱신\n",
        "  optimizer.step()\n",
        "\n",
        "  if i%200==0:\n",
        "    print(f\"Epoch: {i}, Loss_Train: {loss_train.item():.3f}, Loss_Test:{loss_test.item():.3f}\")"
      ],
      "metadata": {
        "colab": {
          "base_uri": "https://localhost:8080/"
        },
        "id": "ONxjOEpIVJDj",
        "outputId": "6adeee6d-1869-4093-ccf5-77815a6f08fb"
      },
      "execution_count": null,
      "outputs": [
        {
          "output_type": "stream",
          "name": "stdout",
          "text": [
            "Epoch: 0, Loss_Train: 2.778, Loss_Test:2.826\n",
            "Epoch: 200, Loss_Train: 0.306, Loss_Test:0.338\n",
            "Epoch: 400, Loss_Train: 0.152, Loss_Test:0.191\n",
            "Epoch: 600, Loss_Train: 0.105, Loss_Test:0.147\n",
            "Epoch: 800, Loss_Train: 0.081, Loss_Test:0.127\n"
          ]
        }
      ]
    },
    {
      "cell_type": "code",
      "source": [
        "plt.plot(range(len(record_loss_train)), record_loss_train, label='Train')\n",
        "plt.plot(range(len(record_loss_test)), record_loss_test, label='Test')\n",
        "plt.legend()\n",
        "\n",
        "plt.xlabel('Epochs')\n",
        "plt.ylabel('Loss')\n",
        "plt.show()"
      ],
      "metadata": {
        "colab": {
          "base_uri": "https://localhost:8080/",
          "height": 449
        },
        "id": "-PcXw3CUZQ-A",
        "outputId": "971fd92f-e398-4616-ebff-594a21f9f0b3"
      },
      "execution_count": null,
      "outputs": [
        {
          "output_type": "display_data",
          "data": {
            "text/plain": [
              "<Figure size 640x480 with 1 Axes>"
            ],
            "image/png": "[encoded data removed]"
          },
          "metadata": {}
        }
      ]
    },
    {
      "cell_type": "code",
      "source": [
        "y_pred_test=net(x_test)\n",
        "count=(y_pred_test.argmax(1)==t_test).sum().item()\n",
        "print(f\"Accuracy: {count/len(t_test):.5f}\")"
      ],
      "metadata": {
        "colab": {
          "base_uri": "https://localhost:8080/"
        },
        "id": "vl65hdIyaMtv",
        "outputId": "92f633ce-4c55-44fa-a1d7-95fa9c9ecc91"
      },
      "execution_count": null,
      "outputs": [
        {
          "output_type": "stream",
          "name": "stdout",
          "text": [
            "Accuracy: 0.96222\n"
          ]
        }
      ]
    },
    {
      "cell_type": "code",
      "source": [
        "#p.108\n",
        "img_id=0\n",
        "x_pred=digit_images[img_id]\n",
        "image=x_pred.reshape(8,8)\n",
        "plt.imshow(image, cmap='gray_r')\n",
        "plt.show()\n",
        "\n",
        "x_pred=torch.tensor(x_pred, dtype=torch.float32)\n",
        "y_pred=net(x_pred)\n",
        "print(\"정답:\", lables[img_id],\" 예측결과: \", y_pred.argmax().item())"
      ],
      "metadata": {
        "id": "aDADHrhmauGu",
        "colab": {
          "base_uri": "https://localhost:8080/",
          "height": 449
        },
        "outputId": "4ad8e2b2-c59c-4276-a2ba-518c7c4c3f99"
      },
      "execution_count": null,
      "outputs": [
        {
          "output_type": "display_data",
          "data": {
            "text/plain": [
              "<Figure size 640x480 with 1 Axes>"
            ],
            "image/png": "[encoded data removed]"
          },
          "metadata": {}
        },
        {
          "output_type": "stream",
          "name": "stdout",
          "text": [
            "정답: 0  예측결과:  0\n"
          ]
        }
      ]
    },
    {
      "cell_type": "code",
      "source": [
        "#4.1 자동미분 p.120\n",
        "import torch\n",
        "x=torch.ones(2,3,requires_grad=True)\n",
        "print(x)"
      ],
      "metadata": {
        "colab": {
          "base_uri": "https://localhost:8080/"
        },
        "id": "jGsbzn4je9ih",
        "outputId": "7669d284-ce43-4f94-d6dd-ee9dfc85ca5e"
      },
      "execution_count": null,
      "outputs": [
        {
          "output_type": "stream",
          "name": "stdout",
          "text": [
            "tensor([[1., 1., 1.],\n",
            "        [1., 1., 1.]], requires_grad=True)\n"
          ]
        }
      ]
    },
    {
      "cell_type": "code",
      "source": [
        "y=x+2\n",
        "print(y)\n",
        "print(y.grad_fn)"
      ],
      "metadata": {
        "colab": {
          "base_uri": "https://localhost:8080/"
        },
        "id": "z7a2Ak9SfaM8",
        "outputId": "0bce38fb-5203-4385-bd96-660a6d5c1df2"
      },
      "execution_count": null,
      "outputs": [
        {
          "output_type": "stream",
          "name": "stdout",
          "text": [
            "tensor([[3., 3., 3.],\n",
            "        [3., 3., 3.]], grad_fn=<AddBackward0>)\n",
            "<AddBackward0 object at 0x7872936df730>\n"
          ]
        }
      ]
    },
    {
      "cell_type": "code",
      "source": [
        "z=y*3\n",
        "print(z)\n",
        "out=z.mean()\n",
        "print(out)"
      ],
      "metadata": {
        "colab": {
          "base_uri": "https://localhost:8080/"
        },
        "id": "CcdBf5oUf8gJ",
        "outputId": "1f153deb-c2f7-4c25-8c5a-635d8d06be95"
      },
      "execution_count": null,
      "outputs": [
        {
          "output_type": "stream",
          "name": "stdout",
          "text": [
            "tensor([[9., 9., 9.],\n",
            "        [9., 9., 9.]], grad_fn=<MulBackward0>)\n",
            "tensor(9., grad_fn=<MeanBackward0>)\n"
          ]
        }
      ]
    },
    {
      "cell_type": "code",
      "source": [
        "#4.1.3 경사계산\n",
        "a=torch.tensor([1.0], requires_grad=True)\n",
        "b=a*2\n",
        "b.backward()\n",
        "print(a.grad)"
      ],
      "metadata": {
        "colab": {
          "base_uri": "https://localhost:8080/"
        },
        "id": "XrCx5ckQgA5i",
        "outputId": "f22ed558-d762-44ea-b9ab-4f8a43c33432"
      },
      "execution_count": null,
      "outputs": [
        {
          "output_type": "stream",
          "name": "stdout",
          "text": [
            "tensor([2.])\n"
          ]
        }
      ]
    },
    {
      "cell_type": "code",
      "source": [
        "def calc(a):\n",
        "  b=a*2+1\n",
        "  c=b*b\n",
        "  d=c/(c+2)\n",
        "  e=d.mean()\n",
        "  return e\n",
        "\n",
        "x=[1.0,2.0,3.0]\n",
        "x=torch.tensor(x,requires_grad=True)\n",
        "y=calc(x)\n",
        "y.backward()\n",
        "print(x.grad)"
      ],
      "metadata": {
        "colab": {
          "base_uri": "https://localhost:8080/"
        },
        "id": "stOoJHkdgcqs",
        "outputId": "4755c389-8ebf-403b-c5b2-5d12c11ce494"
      },
      "execution_count": null,
      "outputs": [
        {
          "output_type": "stream",
          "name": "stdout",
          "text": [
            "tensor([0.0661, 0.0183, 0.0072])\n"
          ]
        }
      ]
    },
    {
      "cell_type": "code",
      "source": [
        "#p.127 미세한 변화로 backward()로 나온값 검증\n",
        "delta=0.001\n",
        "x=[1.0, 2.0, 3.0]\n",
        "x=torch.tensor(x)\n",
        "y=calc(x)\n",
        "\n",
        "x_1=[1.0+delta, 2.0, 3.0]\n",
        "x_1=torch.tensor(x_1)\n",
        "y_1=calc(x_1)\n",
        "\n",
        "x_2=[1.0, 2.0+delta, 3.0]\n",
        "x_2=torch.tensor(x_2)\n",
        "y_2=calc(x_2)\n",
        "\n",
        "x_3=[1.0, 2.0, 3.0+delta]\n",
        "x_3=torch.tensor(x_3)\n",
        "y_3=calc(x_3)\n",
        "\n",
        "grad_1=(y_1-y)/delta\n",
        "grad_2=(y_2-y)/delta\n",
        "grad_3=(y_3-y)/delta\n",
        "\n",
        "print(grad_1, grad_2, grad_3)\n",
        "grads=torch.stack([grad_1, grad_2, grad_3])\n",
        "print(grads)"
      ],
      "metadata": {
        "colab": {
          "base_uri": "https://localhost:8080/"
        },
        "id": "QamZzWkIhGJk",
        "outputId": "8e591263-ebbe-4776-9641-503b528af349"
      },
      "execution_count": null,
      "outputs": [
        {
          "output_type": "stream",
          "name": "stdout",
          "text": [
            "tensor(0.0660) tensor(0.0183) tensor(0.0072)\n",
            "tensor([0.0660, 0.0183, 0.0072])\n"
          ]
        }
      ]
    },
    {
      "cell_type": "code",
      "source": [
        "#p.125 4.1.3 경사계산\n",
        "import torch\n",
        "a=torch.tensor([1.0], requires_grad=True)\n",
        "b=a*2\n",
        "b.backward()\n",
        "print(a.grad)"
      ],
      "metadata": {
        "id": "ZAmCxGDrj1sW",
        "colab": {
          "base_uri": "https://localhost:8080/"
        },
        "outputId": "f01ca0af-ba5d-4ed9-a45c-b5bf37ee0ae8"
      },
      "execution_count": 1,
      "outputs": [
        {
          "output_type": "stream",
          "name": "stdout",
          "text": [
            "tensor([2.])\n"
          ]
        }
      ]
    },
    {
      "cell_type": "code",
      "source": [
        "def calc(a):\n",
        "  b=a*2 +1\n",
        "  c=b*b\n",
        "  d=c/(c+2)\n",
        "  e=d.mean()\n",
        "  return e\n",
        "\n",
        "x=[1.0, 2.0, 3.0]\n",
        "x=torch.tensor(x, requires_grad=True)\n",
        "y=calc(x)\n",
        "y.backward()\n",
        "print(x.grad)"
      ],
      "metadata": {
        "colab": {
          "base_uri": "https://localhost:8080/"
        },
        "id": "KEy4wA-qSZwz",
        "outputId": "d43b8777-a113-4fcd-b273-42471e4ecdcc"
      },
      "execution_count": 2,
      "outputs": [
        {
          "output_type": "stream",
          "name": "stdout",
          "text": [
            "tensor([0.0661, 0.0183, 0.0072])\n"
          ]
        }
      ]
    },
    {
      "cell_type": "code",
      "source": [
        "#미세 변화 검증\n",
        "delta=0.001\n",
        "x=[1.0,2.0,3.0]\n",
        "x=torch.tensor(x)\n",
        "y=calc(x)\n",
        "\n",
        "x_1=[1.0+delta, 2.0, 3.0]\n",
        "x_1=torch.tensor(x_1)\n",
        "y_1=calc(x_1)\n",
        "\n",
        "x_2=[1.0, 2.0+delta, 3.0]\n",
        "x_2=torch.tensor(x_2)\n",
        "y_2=calc(x_2)\n",
        "\n",
        "x_3=[1.0, 2.0, 3.0+delta]\n",
        "x_3=torch.tensor(x_3)\n",
        "y_3=calc(x_3)\n",
        "\n",
        "grad_1=(y_1-y)/delta\n",
        "grad_2=(y_2-y)/delta\n",
        "grad_3=(y_3-y)/delta\n",
        "\n",
        "print(grad_1, grad_2, grad_3)\n",
        "grads=torch.stack([grad_1, grad_2, grad_3])\n",
        "print(grads)"
      ],
      "metadata": {
        "colab": {
          "base_uri": "https://localhost:8080/"
        },
        "id": "H4Rpjj0bS5mH",
        "outputId": "6ce07ca7-f9c1-4f0e-f138-23e0c6a45417"
      },
      "execution_count": 3,
      "outputs": [
        {
          "output_type": "stream",
          "name": "stdout",
          "text": [
            "tensor(0.0660) tensor(0.0183) tensor(0.0072)\n",
            "tensor([0.0660, 0.0183, 0.0072])\n"
          ]
        }
      ]
    },
    {
      "cell_type": "code",
      "source": [
        "#4.2 에포크와 배치 p.129\n",
        "#torchvision dataset\n",
        "from torchvision.datasets import MNIST\n",
        "from torchvision import transforms\n",
        "\n",
        "img_size=28\n",
        "mnist_train=MNIST(\"./data\",train=True, download=True, transform=transforms.ToTensor())\n",
        "mnist_test=MNIST(\"./data\",train=False, download=True, transform=transforms.ToTensor())\n"
      ],
      "metadata": {
        "colab": {
          "base_uri": "https://localhost:8080/"
        },
        "id": "RD097k1TUNzT",
        "outputId": "42110638-650c-4d22-f0f8-3cc269d6612d"
      },
      "execution_count": 4,
      "outputs": [
        {
          "output_type": "stream",
          "name": "stderr",
          "text": [
            "100%|██████████| 9.91M/9.91M [00:00<00:00, 53.2MB/s]\n",
            "100%|██████████| 28.9k/28.9k [00:00<00:00, 1.73MB/s]\n",
            "100%|██████████| 1.65M/1.65M [00:00<00:00, 14.7MB/s]\n",
            "100%|██████████| 4.54k/4.54k [00:00<00:00, 8.87MB/s]"
          ]
        },
        {
          "output_type": "stream",
          "name": "stdout",
          "text": [
            "60000 10000\n"
          ]
        },
        {
          "output_type": "stream",
          "name": "stderr",
          "text": [
            "\n"
          ]
        }
      ]
    },
    {
      "cell_type": "code",
      "source": [
        "print(len(mnist_train), len(mnist_test))"
      ],
      "metadata": {
        "colab": {
          "base_uri": "https://localhost:8080/"
        },
        "id": "jr-iEybAVhsz",
        "outputId": "48a74bc2-b35f-4bd8-c2ea-f1a9d97e515a"
      },
      "execution_count": 5,
      "outputs": [
        {
          "output_type": "stream",
          "name": "stdout",
          "text": [
            "60000 10000\n"
          ]
        }
      ]
    },
    {
      "cell_type": "code",
      "source": [
        "#데이타 로더 설정\n",
        "\n",
        "from torch.utils.data import DataLoader\n",
        "\n",
        "batch_size=256\n",
        "train_loader=DataLoader(mnist_train, batch_size=batch_size, shuffle=True)\n",
        "test_loader=DataLoader(mnist_test, batch_size=batch_size, shuffle=False)"
      ],
      "metadata": {
        "id": "oTazbSJhVm4J"
      },
      "execution_count": 6,
      "outputs": []
    },
    {
      "cell_type": "code",
      "source": [
        "#모델 구축\n",
        "import torch.nn as nn\n",
        "\n",
        "class Net(nn.Module):\n",
        "  def __init__(self):\n",
        "    super().__init__()\n",
        "    self.fc1=nn.Linear(img_size*img_size, 1024)\n",
        "    self.fc2=nn.Linear(1024,512)\n",
        "    self.fc3=nn.Linear(512,10)\n",
        "    self.relu=nn.ReLU()\n",
        "\n",
        "  def forward(self, x):\n",
        "    x=x.view(-1, img_size*img_size)\n",
        "    x=self.relu(self.fc1(x))\n",
        "    x=self.relu(self.fc2(x))\n",
        "    x=self.fc3(x)\n",
        "    return x\n",
        "\n",
        "net=Net()\n",
        "net.cuda()\n",
        "print(net)"
      ],
      "metadata": {
        "colab": {
          "base_uri": "https://localhost:8080/"
        },
        "id": "4Kp_trmbV52u",
        "outputId": "ece93586-7772-4744-c763-394a4f4fe63d"
      },
      "execution_count": 7,
      "outputs": [
        {
          "output_type": "stream",
          "name": "stdout",
          "text": [
            "Net(\n",
            "  (fc1): Linear(in_features=784, out_features=1024, bias=True)\n",
            "  (fc2): Linear(in_features=1024, out_features=512, bias=True)\n",
            "  (fc3): Linear(in_features=512, out_features=10, bias=True)\n",
            "  (relu): ReLU()\n",
            ")\n"
          ]
        }
      ]
    },
    {
      "cell_type": "code",
      "source": [
        "#4.3.4 학습\n",
        "from torch import optim\n",
        "loss_fnc=nn.CrossEntropyLoss()\n",
        "optimizer=optim.SGD(net.parameters(), lr=0.01)\n",
        "\n",
        "record_loss_train=[]\n",
        "record_loss_test=[]\n",
        "\n",
        "for i in range(10):\n",
        "  net.train()\n",
        "  loss_train=0\n",
        "  for j, (x,t) in enumerate(train_loader):\n",
        "    x,t=x.cuda(), t.cuda()\n",
        "    y=net(x)\n",
        "    loss=loss_fnc(y, t)\n",
        "    loss_train += loss.item()\n",
        "    optimizer.zero_grad()\n",
        "    loss.backward()\n",
        "    optimizer.step()\n",
        "  loss_train /= j+1\n",
        "  record_loss_train.append(loss_train)\n",
        "\n",
        "  net.eval()\n",
        "  loss_test=0\n",
        "  for j ,(x,t) in enumerate(test_loader):\n",
        "    x,t=x.cuda(), t.cuda()\n",
        "    y=net(x)\n",
        "    loss=loss_fnc(y,t)\n",
        "    loss_test += loss.item()\n",
        "  loss_test /= j+1\n",
        "  record_loss_test.append(loss_test)\n",
        "\n",
        "  if i%1==0:\n",
        "    print(f\"Epoch: {i} Loss_Train: {loss_train:.4f} Loss_Test: {loss_test:.4f}\")"
      ],
      "metadata": {
        "colab": {
          "base_uri": "https://localhost:8080/"
        },
        "id": "RGqX-F4OXekY",
        "outputId": "c053b270-67c8-4bf4-bda7-87978f742c8b"
      },
      "execution_count": 8,
      "outputs": [
        {
          "output_type": "stream",
          "name": "stdout",
          "text": [
            "Epoch: 0 Loss_Train: 2.2169 Loss_Test: 2.0928\n",
            "Epoch: 1 Loss_Train: 1.8298 Loss_Test: 1.4488\n",
            "Epoch: 2 Loss_Train: 1.1150 Loss_Test: 0.8245\n",
            "Epoch: 3 Loss_Train: 0.7138 Loss_Test: 0.5916\n",
            "Epoch: 4 Loss_Train: 0.5574 Loss_Test: 0.4901\n",
            "Epoch: 5 Loss_Train: 0.4795 Loss_Test: 0.4314\n",
            "Epoch: 6 Loss_Train: 0.4331 Loss_Test: 0.3959\n",
            "Epoch: 7 Loss_Train: 0.4024 Loss_Test: 0.3701\n",
            "Epoch: 8 Loss_Train: 0.3797 Loss_Test: 0.3515\n",
            "Epoch: 9 Loss_Train: 0.3624 Loss_Test: 0.3377\n"
          ]
        }
      ]
    },
    {
      "cell_type": "code",
      "source": [
        "import matplotlib.pyplot as plt\n",
        "plt.plot(range(len(record_loss_train)), record_loss_train, label='Train')\n",
        "plt.plot(range(len(record_loss_test)), record_loss_test, label='Test')\n",
        "plt.legend()\n",
        "\n",
        "plt.xlabel('Epochs')\n",
        "plt.ylabel('Error')\n",
        "plt.show()"
      ],
      "metadata": {
        "colab": {
          "base_uri": "https://localhost:8080/",
          "height": 449
        },
        "id": "8T1jBvDYey59",
        "outputId": "c74a3c29-8625-4840-c481-9a60825fe6a6"
      },
      "execution_count": 9,
      "outputs": [
        {
          "output_type": "display_data",
          "data": {
            "text/plain": [
              "<Figure size 640x480 with 1 Axes>"
            ],
            "image/png": "[encoded data removed]"
          },
          "metadata": {}
        }
      ]
    },
    {
      "cell_type": "code",
      "source": [
        "#4.3.6 정답률\n",
        "correct=0\n",
        "total=0\n",
        "net.eval()\n",
        "for i,(x,t) in enumerate(test_loader):\n",
        "  x,t=x.cuda(), t.cuda()\n",
        "  y=net(x)\n",
        "  correct+=(y.argmax(1)==t).sum().item()\n",
        "  total+=len(x)\n",
        "print(f\"Accuracy: {correct/total:.4f}\")"
      ],
      "metadata": {
        "colab": {
          "base_uri": "https://localhost:8080/"
        },
        "id": "WsbqzdtCfIwn",
        "outputId": "767b880a-72fd-4c4e-b559-745ede6801ef"
      },
      "execution_count": 10,
      "outputs": [
        {
          "output_type": "stream",
          "name": "stdout",
          "text": [
            "Accuracy: 0.9041\n"
          ]
        }
      ]
    },
    {
      "cell_type": "code",
      "source": [
        "#이 책 기본 미니배치 예시\n",
        "\n",
        "\n",
        "#4.2 에포크와 배치 p.129\n",
        "#torchvision dataset\n",
        "from torchvision.datasets import MNIST\n",
        "from torchvision import transforms\n",
        "\n",
        "img_size=28\n",
        "mnist_train=MNIST(\"./data\",train=True, download=True, transform=transforms.ToTensor())\n",
        "mnist_test=MNIST(\"./data\",train=False, download=True, transform=transforms.ToTensor())\n",
        "\n",
        "#데이타 로더 설정\n",
        "from torch.utils.data import DataLoader\n",
        "batch_size=256\n",
        "train_loader=DataLoader(mnist_train, batch_size=batch_size, shuffle=True)\n",
        "test_loader=DataLoader(mnist_test, batch_size=batch_size, shuffle=False)\n",
        "\n",
        "#모델 구축\n",
        "import torch.nn as nn\n",
        "\n",
        "class Net(nn.Module):\n",
        "  def __init__(self):\n",
        "    super().__init__()\n",
        "    self.fc1=nn.Linear(img_size*img_size, 1024)\n",
        "    self.fc2=nn.Linear(1024,512)\n",
        "    self.fc3=nn.Linear(512,10)\n",
        "    self.relu=nn.ReLU()\n",
        "\n",
        "  def forward(self, x):\n",
        "    x=x.view(-1, img_size*img_size)\n",
        "    x=self.relu(self.fc1(x))\n",
        "    x=self.relu(self.fc2(x))\n",
        "    x=self.fc3(x)\n",
        "    return x\n",
        "\n",
        "net=Net()\n",
        "net.cuda()\n",
        "print(net)\n",
        "\n",
        "#4.3.4 학습\n",
        "from torch import optim\n",
        "loss_fnc=nn.CrossEntropyLoss()\n",
        "optimizer=optim.SGD(net.parameters(), lr=0.01)\n",
        "\n",
        "record_loss_train=[]\n",
        "record_loss_test=[]\n",
        "\n",
        "for i in range(10):\n",
        "  net.train()\n",
        "  loss_train=0\n",
        "  for j, (x,t) in enumerate(train_loader):\n",
        "    x,t=x.cuda(), t.cuda()\n",
        "    y=net(x)\n",
        "    loss=loss_fnc(y, t)\n",
        "    loss_train += loss.item()\n",
        "    optimizer.zero_grad()\n",
        "    loss.backward()\n",
        "    optimizer.step()\n",
        "  loss_train /= j+1\n",
        "  record_loss_train.append(loss_train)\n",
        "\n",
        "  net.eval()\n",
        "  loss_test=0\n",
        "  for j ,(x,t) in enumerate(test_loader):\n",
        "    x,t=x.cuda(), t.cuda()\n",
        "    y=net(x)\n",
        "    loss=loss_fnc(y,t)\n",
        "    loss_test += loss.item()\n",
        "  loss_test /= j+1\n",
        "  record_loss_test.append(loss_test)\n",
        "\n",
        "  if i%1==0:\n",
        "    print(f\"Epoch: {i} Loss_Train: {loss_train:.4f} Loss_Test: {loss_test:.4f}\")\n",
        "\n",
        "# 학습상황 시각화\n",
        "import matplotlib.pyplot as plt\n",
        "plt.plot(range(len(record_loss_train)), record_loss_train, label='Train')\n",
        "plt.plot(range(len(record_loss_test)), record_loss_test, label='Test')\n",
        "plt.legend()\n",
        "\n",
        "plt.xlabel('Epochs')\n",
        "plt.ylabel('Error')\n",
        "plt.show()\n",
        "\n",
        "#4.3.6 정답률\n",
        "correct=0\n",
        "total=0\n",
        "net.eval()\n",
        "for i,(x,t) in enumerate(test_loader):\n",
        "  x,t=x.cuda(), t.cuda()\n",
        "  y=net(x)\n",
        "  correct+=(y.argmax(1)==t).sum().item()\n",
        "  total+=len(x)\n",
        "print(f\"Accuracy: {correct/total:.4f}\")"
      ],
      "metadata": {
        "id": "A0e8zneWfge5"
      },
      "execution_count": null,
      "outputs": []
    },
    {
      "cell_type": "code",
      "source": [
        "# 파이토치 튜토리얼 같은 코드\n",
        "# 퀵스타트 https://tutorials.pytorch.kr/beginner/basics/quickstart_tutorial.html\n",
        "import torch\n",
        "from torch import nn\n",
        "from torch.utils.data import DataLoader\n",
        "from torchvision import datasets\n",
        "from torchvision.transforms import ToTensor\n",
        "\n",
        "#데이터셋 받기\n",
        "training_data=datasets.FashionMNIST(\n",
        "    root=\"data\",\n",
        "    train=True,\n",
        "    download=True,\n",
        "    transform=ToTensor(),\n",
        ")\n",
        "\n",
        "test_data=datasets.FashionMNIST(\n",
        "    root=\"data\",\n",
        "    train=False,\n",
        "    download=True,\n",
        "    transform=ToTensor(),\n",
        ")\n",
        "\n",
        "#데이터 로더\n",
        "batch_size=64\n",
        "train_dataloader=DataLoader(training_data, batch_size=batch_size)\n",
        "test_dataloader=DataLoader(test_data, batch_size=batch_size)\n",
        "\n",
        "for X, y in test_dataloader:\n",
        "  print(f\"Shape of X [N, C, H, W]: {X.shape}\")\n",
        "  print(f\"Shape of y: {y.shape} {y.dtype}\")\n",
        "  break\n",
        "\n",
        "#여기까지 퀵가이드 -> 데이터를 불러오는 방법(https://tutorials.pytorch.kr/beginner/basics/data_tutorial.html)"
      ],
      "metadata": {
        "colab": {
          "base_uri": "https://localhost:8080/"
        },
        "id": "L-xSrNA4gQlP",
        "outputId": "657e06fb-e704-41e5-ceef-ae8b2a7df25c"
      },
      "execution_count": 11,
      "outputs": [
        {
          "output_type": "stream",
          "name": "stderr",
          "text": [
            "100%|██████████| 26.4M/26.4M [00:01<00:00, 17.8MB/s]\n",
            "100%|██████████| 29.5k/29.5k [00:00<00:00, 303kB/s]\n",
            "100%|██████████| 4.42M/4.42M [00:00<00:00, 5.58MB/s]\n",
            "100%|██████████| 5.15k/5.15k [00:00<00:00, 16.3MB/s]"
          ]
        },
        {
          "output_type": "stream",
          "name": "stdout",
          "text": [
            "Shape of X [N, C, H, W]: torch.Size([64, 1, 28, 28])\n",
            "Shape of y: torch.Size([64]) torch.int64\n"
          ]
        },
        {
          "output_type": "stream",
          "name": "stderr",
          "text": [
            "\n"
          ]
        }
      ]
    },
    {
      "cell_type": "code",
      "source": [
        "#모델 만들기 퀵가이드 이어서\n",
        "\n",
        "device=(\n",
        "    \"cuda\"\n",
        "    if torch.cuda.is_available()\n",
        "    else \"mps\"\n",
        "    if torch.backends.mps.is_available()\n",
        "    else \"cpu\"\n",
        ")\n",
        "print(f\"Using {device} device\")\n",
        "\n",
        "class NeuralNetwork(nn.Module):\n",
        "  def __init__(self):\n",
        "    super().__init__()\n",
        "    self.flatten=nn.Flatten()\n",
        "    self.linear_relu_stack=nn.Sequential(\n",
        "        nn.Linear(28*28, 512),\n",
        "        nn.ReLU(),\n",
        "        nn.Linear(512, 512),\n",
        "        nn.ReLU(),\n",
        "        nn.Linear(512, 10)\n",
        "    )\n",
        "  def forward(self, x):\n",
        "    x=self.flatten(x)\n",
        "    logits=self.linear_relu_stack(x)\n",
        "    return logits\n",
        "\n",
        "model=NeuralNetwork().to(device)\n",
        "print(model)\n",
        "#여기까지 퀵가이드 -> PyTorch에서 신경망을 정의하는 방법(https://tutorials.pytorch.kr/beginner/basics/buildmodel_tutorial.html)"
      ],
      "metadata": {
        "colab": {
          "base_uri": "https://localhost:8080/"
        },
        "id": "_gbj2T6Tiklq",
        "outputId": "775a05b5-ae7a-4a3e-9f01-ea8862863d62"
      },
      "execution_count": 14,
      "outputs": [
        {
          "output_type": "stream",
          "name": "stdout",
          "text": [
            "Using cuda device\n",
            "NeuralNetwork(\n",
            "  (flatten): Flatten(start_dim=1, end_dim=-1)\n",
            "  (linear_relu_stack): Sequential(\n",
            "    (0): Linear(in_features=784, out_features=512, bias=True)\n",
            "    (1): ReLU()\n",
            "    (2): Linear(in_features=512, out_features=512, bias=True)\n",
            "    (3): ReLU()\n",
            "    (4): Linear(in_features=512, out_features=10, bias=True)\n",
            "  )\n",
            ")\n"
          ]
        }
      ]
    },
    {
      "cell_type": "code",
      "source": [
        "# 퀵가이드 모델 매개변수 최적화하기\n",
        "loss_fn=nn.CrossEntropyLoss()\n",
        "optimizer=torch.optim.SGD(model.parameters(), lr=1e-3)"
      ],
      "metadata": {
        "id": "45bHJ_RLkt9C"
      },
      "execution_count": 15,
      "outputs": []
    },
    {
      "cell_type": "code",
      "source": [
        "def train(dataloader, model, loss_fn, optimizer):\n",
        "  siez"
      ],
      "metadata": {
        "id": "wWV2YIvrlJ5a"
      },
      "execution_count": null,
      "outputs": []
    }
  ]
}